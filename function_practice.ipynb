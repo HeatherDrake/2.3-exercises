{
 "cells": [
  {
   "cell_type": "markdown",
   "metadata": {},
   "source": [
    "### Character Input\n",
    "\n",
    "Create a program that asks the user to enter their name and their age. Print out a message addressed to them that tells them the year that they will turn 100 years old."
   ]
  },
  {
   "cell_type": "code",
   "execution_count": 19,
   "metadata": {},
   "outputs": [
    {
     "name": "stdout",
     "output_type": "stream",
     "text": [
      "what is your name?mady\n",
      "what is your age?20\n",
      "madyyou will turn 100 in2099\n"
     ]
    }
   ],
   "source": [
    "def character_input():\n",
    "    name = input( \"what is your name?\")\n",
    "    age = input(\"what is your age?\")\n",
    "    year = 2019 + (100 - int(age))\n",
    "    print(str(name) + \"you will turn 100 in\" + str(year))\n",
    "character_input()\n",
    "          \n",
    "          "
   ]
  },
  {
   "cell_type": "markdown",
   "metadata": {},
   "source": [
    "### Odd Or Even\n",
    "\n",
    "Ask the user for a number. Depending on whether the number is even or odd, print out an appropriate message to the user. Hint: how does an even / odd number react differently when divided by 2?"
   ]
  },
  {
   "cell_type": "code",
   "execution_count": 20,
   "metadata": {},
   "outputs": [
    {
     "name": "stdout",
     "output_type": "stream",
     "text": [
      "give me a number.20\n",
      "remainder 0\n",
      "that's an even number\n"
     ]
    }
   ],
   "source": [
    "def odd_even():\n",
    "    number = input(\"give me a number.\")\n",
    "    number = int(number)\n",
    "    \n",
    "    print(\"remainder\", number % 2)\n",
    "    \n",
    "    if number % 2 == 0:\n",
    "        print(\"that\\'s an even number\")\n",
    "    else:\n",
    "        print(\"that\\'s an odd number\")\n",
    "      \n",
    "odd_even()"
   ]
  },
  {
   "cell_type": "markdown",
   "metadata": {},
   "source": [
    "### List Ends\n",
    "\n",
    "Write a program that takes a list of numbers (for example, a = [5, 10, 15, 20, 25]) and makes a new list of only the first and last elements of the given list. For practice, write this code inside a function."
   ]
  },
  {
   "cell_type": "code",
   "execution_count": 17,
   "metadata": {},
   "outputs": [
    {
     "data": {
      "text/plain": [
       "[5, 25]"
      ]
     },
     "execution_count": 17,
     "metadata": {},
     "output_type": "execute_result"
    }
   ],
   "source": [
    "def list_ends(num_list):\n",
    "    \n",
    "    my_list = []\n",
    "    \n",
    "    first_element = num_list[0]\n",
    "    my_list.append(first_element)\n",
    "    \n",
    "    last_element = num_list[-1]\n",
    "    my_list.append(last_element)\n",
    "    \n",
    "    return my_list\n",
    "list_ends((5, 10, 15, 20, 25, ))\n",
    "    \n",
    "    \n",
    "    "
   ]
  },
  {
   "cell_type": "markdown",
   "metadata": {},
   "source": [
    "### Element Search\n",
    "\n",
    "Write a function that takes an ordered list of numbers (a list where the elements are in order from smallest to largest) and another number. The function decides whether or not the given number is inside the list and returns (then prints) an appropriate boolean."
   ]
  },
  {
   "cell_type": "code",
   "execution_count": 22,
   "metadata": {},
   "outputs": [
    {
     "name": "stdout",
     "output_type": "stream",
     "text": [
      "True\n"
     ]
    }
   ],
   "source": [
    "def inside(numbers_list, a):\n",
    "    if a in numbers_list:\n",
    "        print(True)\n",
    "    else:\n",
    "        print(False)\n",
    "\n",
    "inside([1, 2, 3 ], 3)"
   ]
  },
  {
   "cell_type": "markdown",
   "metadata": {},
   "source": [
    "### List Less Than 5\n",
    "\n",
    "Write a program that takes a list of numbers and prints out all the elements of the list that are less than 5."
   ]
  },
  {
   "cell_type": "code",
   "execution_count": 23,
   "metadata": {},
   "outputs": [
    {
     "name": "stdout",
     "output_type": "stream",
     "text": [
      "1\n",
      "2\n",
      "3\n",
      "4\n"
     ]
    }
   ],
   "source": [
    "def under(a):\n",
    "    for i in a:\n",
    "        if i < 5:\n",
    "            print(i)\n",
    "under([1, 2, 3, 4, 5, 6, ])"
   ]
  },
  {
   "cell_type": "markdown",
   "metadata": {},
   "source": [
    "### Divisors\n",
    "\n",
    "Create a program that asks the user for a number and then prints out a list of all the divisors of that number."
   ]
  },
  {
   "cell_type": "code",
   "execution_count": null,
   "metadata": {},
   "outputs": [],
   "source": [
    "def divisors(a):\n",
    "    prompt = (\"give me a number\")\n",
    "    num = imput(prompt)\n",
    "    for i \n",
    "    "
   ]
  },
  {
   "cell_type": "markdown",
   "metadata": {},
   "source": [
    "### List Remove Duplicates\n",
    "\n",
    "Write a program (function!) that takes a list and returns a new list that contains all the elements of the first list minus all the duplicates."
   ]
  },
  {
   "cell_type": "code",
   "execution_count": 26,
   "metadata": {},
   "outputs": [
    {
     "data": {
      "text/plain": [
       "[1, 3, 4, 5, 6, 7, 10]"
      ]
     },
     "execution_count": 26,
     "metadata": {},
     "output_type": "execute_result"
    }
   ],
   "source": [
    "def Delete(duplications):\n",
    "    final_list = []\n",
    "    for i in duplications:\n",
    "        if i not in final_list:\n",
    "            final_list.append(i)\n",
    "    return final_list\n",
    "Delete([1, 1, 3, 3, 4, 5, 5, 6, 7, 7, 10 ])\n",
    "\n"
   ]
  },
  {
   "cell_type": "markdown",
   "metadata": {},
   "source": [
    "### Fibonnaci\n",
    "\n",
    "Write a program that asks the user how many Fibonnaci numbers to generate and then generates them. (The Fibonnaci seqence is a sequence of numbers where the next number in the sequence is the sum of the previous two numbers in the sequence. The sequence looks like this: 1, 1, 2, 3, 5, 8, 13, …)"
   ]
  },
  {
   "cell_type": "code",
   "execution_count": 28,
   "metadata": {},
   "outputs": [],
   "source": []
  },
  {
   "cell_type": "code",
   "execution_count": null,
   "metadata": {},
   "outputs": [],
   "source": []
  },
  {
   "cell_type": "code",
   "execution_count": null,
   "metadata": {},
   "outputs": [],
   "source": []
  },
  {
   "cell_type": "code",
   "execution_count": null,
   "metadata": {},
   "outputs": [],
   "source": []
  },
  {
   "cell_type": "code",
   "execution_count": null,
   "metadata": {},
   "outputs": [],
   "source": []
  }
 ],
 "metadata": {
  "kernelspec": {
   "display_name": "Python 3",
   "language": "python",
   "name": "python3"
  },
  "language_info": {
   "codemirror_mode": {
    "name": "ipython",
    "version": 3
   },
   "file_extension": ".py",
   "mimetype": "text/x-python",
   "name": "python",
   "nbconvert_exporter": "python",
   "pygments_lexer": "ipython3",
   "version": "3.7.1"
  }
 },
 "nbformat": 4,
 "nbformat_minor": 2
}
